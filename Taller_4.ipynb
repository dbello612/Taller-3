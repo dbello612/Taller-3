{
  "nbformat": 4,
  "nbformat_minor": 0,
  "metadata": {
    "colab": {
      "provenance": [],
      "include_colab_link": true
    },
    "kernelspec": {
      "name": "python3",
      "display_name": "Python 3"
    },
    "language_info": {
      "name": "python"
    }
  },
  "cells": [
    {
      "cell_type": "markdown",
      "metadata": {
        "id": "view-in-github",
        "colab_type": "text"
      },
      "source": [
        "<a href=\"https://colab.research.google.com/github/dbello612/Taller-3/blob/main/Taller_4.ipynb\" target=\"_parent\"><img src=\"https://colab.research.google.com/assets/colab-badge.svg\" alt=\"Open In Colab\"/></a>"
      ]
    },
    {
      "cell_type": "markdown",
      "source": [
        "# Taller N° 4\n",
        "\n",
        "Juanita Rojas Navarro\n",
        "\n",
        "Diana Bello\n",
        "\n",
        "Tema:  Decisión de inversión en un portafolio de proyectos"
      ],
      "metadata": {
        "id": "W019IJyJRUQY"
      }
    },
    {
      "cell_type": "markdown",
      "source": [
        "La situación planteada se enfoca en una empresa que busca invertir en varios proyectos y que dispone de un presupuesto limitado de 18 millones de dólares por cada año. Cada proyecto tiene asociado un Valor Presente Neto (VPN) y un costo que se debe pagar cada año. El objetivo de la empresa es determinar la combinación de proyectos que maximice el VPN total, tomando en cuenta la limitación presupuestaria. Para resolver este problema se necesita formular un programa lineal de optimización, en este caso mi grupo usara la librería “cvxpy” que permite optimizar problemas convexos en python, y así encontrar el mejor plan de inversión. Este programa va a considerar los VPN y los costos de cada proyecto, así como las restricciones de presupuesto que tiene la empresa.\n",
        "\n",
        "\n",
        "\n",
        "\n",
        "\n",
        "Además de encontrar el mejor plan de inversión, se plantea la posibilidad de utilizar la simulación de Monte Carlo para generar un modelo de riesgos de inversión asociados al portafolio total de proyectos. Esto permitiría a la empresa tener una mejor comprensión de los riesgos asociados a su inversión. La simulación de Monte Carlo es una técnica que utiliza datos aleatorios para modelar una situación en la que hay incertidumbre. En este caso, se generarán múltiples escenarios aleatorios para calcular el VPN total del portafolio de proyectos y se encontrará el VaR para gestionar el riesgo del portafolio que contiene los 10 proyectos. Estos escenarios aleatorios se basarán en la variabilidad de los costos de cada proyecto. Al analizar estos escenarios, la empresa podría tener una idea más clara de los posibles resultados y riesgos asociados a su inversión.\n"
      ],
      "metadata": {
        "id": "AbkS14g94R2f"
      }
    },
    {
      "cell_type": "code",
      "source": [
        "# Librerias\n",
        "import numpy as np\n",
        "import pandas as pd\n",
        "import matplotlib.pyplot as plt\n",
        "import cvxpy as cp\n",
        "from scipy import stats\n",
        "from scipy.stats import norm\n",
        "import statsmodels.api as sm\n",
        "from statsmodels.tsa.stattools import adfuller\n",
        "import warnings\n",
        "from scipy.optimize import minimize\n",
        "from scipy.optimize import linprog\n",
        "!pip install --quiet pyDOE\n",
        "from pyDOE import lhs\n",
        "warnings.filterwarnings(\"ignore\")"
      ],
      "metadata": {
        "id": "8AD7U3_-U5cn"
      },
      "execution_count": null,
      "outputs": []
    },
    {
      "cell_type": "markdown",
      "source": [
        "## Problema a tratar:\n",
        "\n",
        "La empresa tiene los siguientes proyectos en los que puede invertir 18 millones (USD) en\n",
        "cada año. Cada proyecto tiene un VPN y recursos requeridos para cada año (en millones\n",
        "USD), como se muestra a continuación:"
      ],
      "metadata": {
        "id": "r2BVuffFYXtC"
      }
    },
    {
      "cell_type": "code",
      "source": [
        "# Info de los datos\n",
        "data = {\n",
        "    'Proyecto': ['Proyecto 1', 'Proyecto 2', 'Proyecto 3', 'Proyecto 4', 'Proyecto 5', \n",
        "                 'Proyecto 6', 'Proyecto 7', 'Proyecto 8', 'Proyecto 9', 'Proyecto 10'],\n",
        "    'VPN': [30, 30, 20, 15, 15, 15, 15, 24, 18, 18],\n",
        "    'Año 1': [12, 0, 3, 10, 0, 0, 0, 8, 0, 0],\n",
        "    'Año 2': [4, 12, 4, 0, 11, 0, 0, 8, 0, 0],\n",
        "    'Año 3': [4, 4, 4, 0, 0, 12, 0, 0, 10, 4],\n",
        "    'Año 4': [0, 4, 4, 0, 0, 0, 13, 0, 4, 10]\n",
        "}\n",
        "\n",
        "# Crea un DataFrame con el diccionario de datos\n",
        "dat = pd.DataFrame(data)\n",
        "\n",
        "# Configura el índice del DataFrame con la columna \"Proyecto\"\n",
        "dat.set_index('Proyecto', inplace=True)\n",
        "\n",
        "# Imprime el DataFrame\n",
        "print(dat)"
      ],
      "metadata": {
        "id": "1C_lfMgIRTtx",
        "colab": {
          "base_uri": "https://localhost:8080/"
        },
        "outputId": "1dc91d20-0859-410a-bb4a-54d6d5580aa3"
      },
      "execution_count": null,
      "outputs": [
        {
          "output_type": "stream",
          "name": "stdout",
          "text": [
            "             VPN  Año 1  Año 2  Año 3  Año 4\n",
            "Proyecto                                    \n",
            "Proyecto 1    30     12      4      4      0\n",
            "Proyecto 2    30      0     12      4      4\n",
            "Proyecto 3    20      3      4      4      4\n",
            "Proyecto 4    15     10      0      0      0\n",
            "Proyecto 5    15      0     11      0      0\n",
            "Proyecto 6    15      0      0     12      0\n",
            "Proyecto 7    15      0      0      0     13\n",
            "Proyecto 8    24      8      8      0      0\n",
            "Proyecto 9    18      0      0     10      4\n",
            "Proyecto 10   18      0      0      4     10\n"
          ]
        }
      ]
    },
    {
      "cell_type": "markdown",
      "source": [
        "A. Formule un programa lineal para encontrar el mejor plan de inversión (proyectos en los\n",
        "que se recomienda invertir)."
      ],
      "metadata": {
        "id": "xMQotcBmZBEC"
      }
    },
    {
      "cell_type": "code",
      "execution_count": null,
      "metadata": {
        "id": "QNrkfMrTRFDH"
      },
      "outputs": [],
      "source": [
        "# Parametros de la función objetivo\n",
        "c = np.array([30, 30, 20, 15, 15, 15, 15, 24, 18, 18])\n",
        "\n",
        "# Restricciones de desigualdad                \n",
        "A = np.array([[12, 0, 3, 10, 0, 0, 0, 8, 0, 0],\n",
        "              [4, 12, 4, 0, 11, 0, 0, 8, 0, 0],\n",
        "              [4, 4, 4, 0, 0, 12, 0, 0, 10, 4],\n",
        "              [0, 4, 4, 0, 0, 0, 13, 0, 4, 10]])\n",
        "\n",
        "b = np.array([18, 18, 18, 18])"
      ]
    },
    {
      "cell_type": "code",
      "source": [
        "# Solución del problema\n",
        "n=10\n",
        "x = cp.Variable(n, boolean=True)\n",
        "objective = cp.Maximize(c.T @ x)\n",
        "constraints = [A @ x <= b, x >=0]\n",
        "prob = cp.Problem(objective, constraints)\n",
        "# La función prob.solve() retorna el valor objetivo óptimo.\n",
        "result = prob.solve()\n",
        "x_sol = pd.DataFrame(x.value)\n",
        "# El valor óptimo para x se almacena en x.value.\n",
        "x_sol.index = x_sol.index + 1\n",
        "# Imprimir DataFrame junto con los valores óptimos de x\n",
        "result_df = pd.concat([dat, x_sol], axis=1)\n",
        "# Obtener los proyectos con valor 1 que son en los que se recomienda invertir \n",
        "proyectos_1 = result_df[result_df[0] == 1]\n",
        "print(\"Proyectos en los cuales se recomienda invertir:\")\n",
        "print(proyectos_1.index.tolist())\n",
        "# Obtener los proyectos con valor 0 que son en los que se recomienda invertir \n",
        "proyectos_0 = result_df[result_df[0] == 0]\n",
        "print(\"Proyectos en los cuales no se recomienda invertir:\")\n",
        "print(proyectos_0.index.tolist())\n",
        "print(\"Resultado del maximo VPN:\")\n",
        "print(result)"
      ],
      "metadata": {
        "colab": {
          "base_uri": "https://localhost:8080/"
        },
        "id": "0xZst4-UaOU2",
        "outputId": "9d8e7a24-61b4-4f2d-9677-574ffa05c1ba"
      },
      "execution_count": null,
      "outputs": [
        {
          "output_type": "stream",
          "name": "stdout",
          "text": [
            "Proyectos en los cuales se recomienda invertir:\n",
            "[3, 4, 5, 9, 10]\n",
            "Proyectos en los cuales no se recomienda invertir:\n",
            "[1, 2, 6, 7, 8]\n",
            "Resultado del maximo VPN:\n",
            "86.0\n"
          ]
        }
      ]
    },
    {
      "cell_type": "markdown",
      "source": [
        "Se ha resuelto el problema de decisión de inversión de la empresa mediante un modelo de programación lineal. Se han considerado los VPN y recursos requeridos de cada proyecto para determinar la combinación óptima de proyectos en los que se recomienda invertir para maximizar el VPN total. La solución obtenida sugiere invertir en los proyectos 3, 4, 5, 9 y 10, mientras que no se recomienda invertir en los proyectos 1, 2, 6, 7 y 8. El VPN máximo obtenido en esta combinación óptima de proyectos es de 86 millones de USD."
      ],
      "metadata": {
        "id": "M2lpWn4N-r46"
      }
    },
    {
      "cell_type": "markdown",
      "source": [
        "Para completar:\n",
        "\n",
        "i. La simulación de Monte Carlo se puede utilizar para generar un modelo de riesgos de\n",
        "inversión asociados al portafolio total de proyectos. Complete el análisis anterior de toma\n",
        "de decisión con el de riesgos."
      ],
      "metadata": {
        "id": "l6K3ivW7mbVm"
      }
    },
    {
      "cell_type": "code",
      "source": [
        "medias = np.mean(A, axis=0)                                   # Definir los valores de media y sigma para cada proyecto\n",
        "sigmas = np.std(A, axis=0)       \n",
        "n = 10                                                        # Definir el número de muestras aleatorias\n",
        "# Generar las muestras aleatorias para cada proyecto\n",
        "rands_2d = np.zeros((10, n))                                  # matriz vacía para almacenar los datos\n",
        "for i in range(10):\n",
        "    retorno = medias[i]\n",
        "    sigma = sigmas[i]\n",
        "    rands_2d[i] = np.random.normal(retorno, sigma, size=n)    # Generar la muestra aleatoria de posibles VPN de cada proyecto \n",
        "    "
      ],
      "metadata": {
        "id": "e8W-mHb1OKUw"
      },
      "execution_count": null,
      "outputs": []
    },
    {
      "cell_type": "code",
      "source": [
        "w = x_sol.to_numpy().T[0]                # Calcular el rendimiento de cada proyecto para cada uno de los escenarios de la muestra aleatoria\n",
        "rp_2d = rands_2d @ w     \n",
        "rp_2d_o = np.sort(rp_2d)                 # Ordenar los rendimientos del portafolio de menor a mayor\n",
        "\n",
        "# Calcular la media y la desviación estándar del rendimiento del portafolio que contiene los 10 proyectos\n",
        "media = np.mean(rp_2d_o)\n",
        "desv_est = np.std(rp_2d_o)\n",
        "print(\"La media de este portafolio es:\",media)\n",
        "print(\"La desvición de este portafolio es:\",desv_est)"
      ],
      "metadata": {
        "colab": {
          "base_uri": "https://localhost:8080/"
        },
        "id": "uishMYg-W_4b",
        "outputId": "b273a5c8-516b-41b5-962c-ac5c0b3ad822"
      },
      "execution_count": null,
      "outputs": [
        {
          "output_type": "stream",
          "name": "stdout",
          "text": [
            "La media de este portafolio es: 24.847075003112746\n",
            "La desvición de este portafolio es: 5.774565024795696\n"
          ]
        }
      ]
    },
    {
      "cell_type": "code",
      "source": [
        "# Calcular el VaR de simulación para encontrar la perdida maxima posible del portafolio que contiene todos los proyectos\n",
        "alpha = 0.05\n",
        "VaR = rp_2d_o[int(10 * alpha)] - c.mean()\n",
        "print(\"La perdida maxima posible según el VaR estimado en este portafoloio es de:\", VaR)"
      ],
      "metadata": {
        "colab": {
          "base_uri": "https://localhost:8080/"
        },
        "id": "45CsjCdxiHuy",
        "outputId": "f9b65b18-b35e-486c-c2e5-2fdc4dadae84"
      },
      "execution_count": null,
      "outputs": [
        {
          "output_type": "stream",
          "name": "stdout",
          "text": [
            "La perdida maxima posible según el VaR estimado en este portafoloio es de: -4.0803680269846545\n"
          ]
        }
      ]
    },
    {
      "cell_type": "markdown",
      "source": [
        "Según el análisis realizado con la técnica de Monte Carlo, se ha podido evaluar la viabilidad del conjunto de proyectos propuestos por la empresa, que consiste en invertir 18 millones de USD en cada uno de los 10 proyectos. Los resultados muestran que el portafolio tiene una rentabilidad media de 24.8 millones de USD y una desviación estándar de 5.7 millones de USD. Además, se ha calculado el Valor en Riesgo (VaR) al 5% de probabilidad, lo que indica que la pérdida máxima posible es de 4 millones de USD. Esta información es fundamental para la empresa, ya que les permite tomar decisiones informadas sobre la inversión, maximizando sus beneficios y minimizando sus riesgos."
      ],
      "metadata": {
        "id": "zgJXff1wAEki"
      }
    }
  ]
}